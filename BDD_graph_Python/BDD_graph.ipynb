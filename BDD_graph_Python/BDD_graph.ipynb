{
 "cells": [
  {
   "cell_type": "markdown",
   "metadata": {},
   "source": [
    "# Full Adder BDD Generator"
   ]
  },
  {
   "cell_type": "markdown",
   "metadata": {},
   "source": [
    "This script generates a Binary Decision Diagram (BDD) for a formal model of an approximate full adder with variable bit width.\n",
    "\n",
    "\n",
    "10.2021, Fabian Garber, Simon Howind, Kagan Özten, Martin Resetarits, Peter Traunmüller \n",
    "\n",
    "Contact: e1326142@student.tuwien.ac.at"
   ]
  },
  {
   "cell_type": "code",
   "execution_count": 2,
   "metadata": {},
   "outputs": [],
   "source": [
    "#Import necessary libraries\n",
    "from pyeda.inter import * # <--this is from the official wiki, don't judge\n",
    "\n",
    "#GVmagic is a package to use the external GraphViz library inside python\n",
    "%load_ext gvmagic\n",
    "\n",
    "#to easily get some multidimensional arrays\n",
    "import numpy\n",
    "\n",
    "#from pprint import pprint\n",
    "\n",
    "#Libraries needed for the image creation\n",
    "import pydot\n",
    "from PIL import Image\n",
    "from numpy import *"
   ]
  },
  {
   "cell_type": "markdown",
   "metadata": {},
   "source": [
    "## VHDL from Kagan\n",
    "\n",
    " -- Full adder (exact)\n",
    " \n",
    "S <= A XOR B XOR Cin ;\n",
    "\n",
    "Cout <= (A AND B) OR (Cin AND A) OR (Cin AND B) ;\n",
    "\n",
    "-- Full adder INXA1 (Approx.)\n",
    "\n",
    "s_inv_1 <= A XOR B XOR Cin ; -- Signal for binding S_a and Cout_a\n",
    "\n",
    "S_a <= s_inv_1;\n",
    "\n",
    "Cout_a <= NOT(s_inv_1) ;"
   ]
  },
  {
   "cell_type": "markdown",
   "metadata": {},
   "source": [
    "## Approx. Full Adder"
   ]
  },
  {
   "cell_type": "code",
   "execution_count": 3,
   "metadata": {
    "scrolled": true
   },
   "outputs": [
    {
     "name": "stdout",
     "output_type": "stream",
     "text": [
      "approx:[0, 1, 0, 1, 1]\n"
     ]
    }
   ],
   "source": [
    "#Approximate full adder type INXA1:\n",
    "def approx_full_adder_bit(a_in, b_in, carry_in):\n",
    "    #cast to bool in case we've thrown in ints\n",
    "    a_in = bool(int(a_in))\n",
    "    b_in = bool(int(b_in))\n",
    "    carry_in = bool(int(carry_in))\n",
    "    \n",
    "    s_out = (a_in ^ b_in ) ^ carry_in\n",
    "    c_out = not s_out\n",
    "    \n",
    "    return s_out,c_out\n",
    "\n",
    "#n-bit approx. full adder\n",
    "def approx_full_adder(a_in, b_in, input_width):\n",
    "    bin_format = \"{0:0\"+str(input_width)+\"b}\" #{0:08b}\n",
    "    \n",
    "    #format the input as string so we can pick single values\n",
    "    a_in_bin_str = str(bin_format.format(a_in)) #\"01101001\"\n",
    "    b_in_bin_str = str(bin_format.format(b_in)) #\"01110101\"\n",
    "    \n",
    "    #initialize vars for the loop\n",
    "    carry_out = 0\n",
    "    out = [0] * (input_width+1)\n",
    "    \n",
    "    #loop through each digit of the bin and use our approx adder\n",
    "    for i in range(input_width, 0, -1):\n",
    "        out[i],carry_out = approx_full_adder_bit(a_in_bin_str[i-1], b_in_bin_str[i-1], carry_out)\n",
    "    \n",
    "    #add the carry as leading digit\n",
    "    out[0]=carry_out  \n",
    "\n",
    "    return out\n",
    "    \n",
    "#run a quick test\n",
    "#approx_full_adder(0b1111, 0b0000, 4)\n",
    "print(\"approx:\"+str(list(map(int, approx_full_adder(0b0011, 0b0000, 4)))))\n"
   ]
  },
  {
   "cell_type": "markdown",
   "metadata": {},
   "source": [
    "## Exact Full Adder"
   ]
  },
  {
   "cell_type": "code",
   "execution_count": 4,
   "metadata": {
    "scrolled": true
   },
   "outputs": [
    {
     "name": "stdout",
     "output_type": "stream",
     "text": [
      "exact:[0, 1, 0, 0, 0]\n"
     ]
    }
   ],
   "source": [
    "#exact full adder:\n",
    "def exact_full_adder_bit(a_in, b_in, carry_in):\n",
    "    #cast to bool in case we've thrown in ints\n",
    "    a_in = bool(int(a_in))\n",
    "    b_in = bool(int(b_in))\n",
    "    carry_in = bool(int(carry_in))\n",
    "    \n",
    "    s_out = (a_in ^ b_in ) ^ carry_in\n",
    "    c_out = (a_in & b_in ) | (a_in & carry_in ) | (carry_in & b_in )\n",
    "    \n",
    "    return s_out,c_out\n",
    "\n",
    "#n-bit exact full adder\n",
    "def exact_full_adder(a_in, b_in, input_width):\n",
    "    bin_format = \"{0:0\"+str(input_width)+\"b}\" #{0:08b}\n",
    "    \n",
    "    #format the input as string so we can pick single values\n",
    "    a_in_bin_str = str(bin_format.format(a_in)) #\"01101001\"\n",
    "    b_in_bin_str = str(bin_format.format(b_in)) #\"01110101\"\n",
    "        \n",
    "    #initialize vars for the loop\n",
    "    carry_out = 0\n",
    "    out = [0] * (input_width+1)\n",
    "    \n",
    "    #loop through each digit of the bin and use our exact adder\n",
    "    for i in range(input_width, 0, -1):\n",
    "        out[i],carry_out = exact_full_adder_bit(a_in_bin_str[i-1], b_in_bin_str[i-1], carry_out)\n",
    "    \n",
    "    #add the carry as leading digit\n",
    "    out[0]=carry_out  \n",
    "    return out\n",
    "    \n",
    "#run a quick test\n",
    "#exact_full_adder(0b1111, 0b0000, 4)\n",
    "print(\"exact:\"+str(list(map(int, exact_full_adder(0b0111, 0b0001, 4)))))"
   ]
  },
  {
   "cell_type": "markdown",
   "metadata": {},
   "source": [
    "## Running both adders"
   ]
  },
  {
   "cell_type": "code",
   "execution_count": 41,
   "metadata": {},
   "outputs": [],
   "source": [
    "#test the adders with numbers\n",
    "\n",
    "def run_adders(input_width, input_combinations, VERBOSE_output):\n",
    "\n",
    "\n",
    "    #count the combinations \n",
    "    input_combination_nr = 0\n",
    "\n",
    "    #string to hold a binary information if the approx adder was wrong -> \"00111001010\"; to be used with BDD later\n",
    "    #1 == ERROR, 0==Correct\n",
    "    bin_error = \"\"\n",
    "    #2d error array to where the XY axis are inputs A and B and the values are the absolute error; to be used for image later\n",
    "    abs_error_array = numpy.zeros(shape=(input_combinations, input_combinations, 3), dtype=numpy.uint8)\n",
    "    #abs_error_array = numpy.zeros(shape=(input_combinations, input_combinations))\n",
    "\n",
    "    #Loop through all combinations for input A\n",
    "    for i in range(input_combinations):\n",
    "        #Loop through all combinations for input B\n",
    "        for j in range(input_combinations):\n",
    "            #display the input combination as \"A + B =\" \n",
    "            bin_format = \"{0:0\"+str(input_width)+\"b}\" #{0:08b}\n",
    "            if(VERBOSE_output):\n",
    "                print(\"\"+str(bin_format.format(i)), end =\" + \")\n",
    "                print(\"\"+str(bin_format.format(j)), end =\" = \")\n",
    "\n",
    "            #Throw the numbers into the approximate adder\n",
    "            approx_result = approx_full_adder(i, j, input_width)\n",
    "            approx_result_int = 0\n",
    "            #Format the output of the approximate adder and add it to the output thruth table\n",
    "            for k in range(input_width+1):\n",
    "                output_truth_table_approx[k][input_combination_nr] = approx_result[k]\n",
    "                approx_result_int =  approx_result_int + int(approx_result[k]) * 2**(input_width-k)\n",
    "            bin_format_plus1 = \"{0:0\"+str(input_width+1)+\"b}\" #{0:08b} \n",
    "            #Display the output of the approximate adder\n",
    "            if(VERBOSE_output):\n",
    "                print(\"approx:\" + bin_format_plus1.format(approx_result_int), end =\", \")\n",
    "\n",
    "            #Throw the numbers into the exact adder\n",
    "            exact_result = exact_full_adder(i, j, input_width)\n",
    "            exact_result_int = 0\n",
    "            #Format the output of the exact adder \n",
    "            for k in range(input_width+1):\n",
    "                output_truth_table_exact[k][input_combination_nr] = exact_result[k]\n",
    "                exact_result_int =  exact_result_int + int(exact_result[k]) * 2**(input_width-k)\n",
    "            #Display the output of the exact adder\n",
    "            if(VERBOSE_output):\n",
    "                print(\"exact:\" + bin_format_plus1.format(exact_result_int), end =\", \")\n",
    "\n",
    "            #Calculate the absolute error distance \n",
    "            #From Fig. 5a Formal_Methods_for_Exact_Analysis_of_Approximate_Circuits.pdf\n",
    "            abs_error = abs(approx_result_int - exact_result_int)\n",
    "            #abs_error_array[i][j][0] = abs_error #0=RED, 1=GREEN, 2=BLUE\n",
    "            abs_error_array[i][j] = [255, 255-abs_error ,255-abs_error ] #0=RED, 1=GREEN, 2=BLUE\n",
    "            if(abs_error > 0):\n",
    "                bin_error = bin_error + \"1\"\n",
    "            else:\n",
    "                bin_error = bin_error + \"0\"\n",
    "            if(VERBOSE_output):\n",
    "                print(\"error: \" + str(abs_error), end = \" \")\n",
    "\n",
    "            input_combination_nr = input_combination_nr + 1\n",
    "            #print an newline \n",
    "            if(VERBOSE_output):\n",
    "                print(\"Combination: \"+ str(input_combination_nr) +\"/\" + str(input_combinations**2), end =\"\")\n",
    "                print()\n",
    "    return output_truth_table_approx, output_truth_table_exact, bin_error, abs_error_array\n",
    "        "
   ]
  },
  {
   "cell_type": "markdown",
   "metadata": {},
   "source": [
    "## Truth table from adder outputs"
   ]
  },
  {
   "cell_type": "code",
   "execution_count": 6,
   "metadata": {},
   "outputs": [],
   "source": [
    "#takes the 2D array from the adder function and transforms it into strings that can be fed into the BDD\n",
    "\n",
    "def generate_truth_table(output_truth_table_approx, output_truth_table_exact, bin_error, input_width, input_combinations, VERBOSE_output):\n",
    "    #generate 1D string arrays\n",
    "    output_truth_table_approx_str = [\"\"] * (input_width+1)\n",
    "    output_truth_table_exact_str = [\"\"] * (input_width+1)\n",
    "\n",
    "\n",
    "    #fill the 1D arrays with the row elements of the 2D arrays -> [0,1,0,1,1] shoud result in [\"01011\"]\n",
    "    for h in range(input_width+1):\n",
    "        for i in range(input_combinations**2):\n",
    "            output_truth_table_approx_str[h] = output_truth_table_approx_str[h] + str(int(output_truth_table_approx[h][i]))\n",
    "            output_truth_table_exact_str[h] = output_truth_table_exact_str[h] + str(int(output_truth_table_exact[h][i]))\n",
    "    if(VERBOSE_output):\n",
    "        print(\"Approx. output truth tables: \" + str(output_truth_table_approx_str))\n",
    "        print(\"Exact output truth tables: \" + str(output_truth_table_exact_str))\n",
    "        print(\"Error truth table (0=correct): \" + bin_error)\n",
    "    return output_truth_table_approx_str, output_truth_table_exact_str\n"
   ]
  },
  {
   "cell_type": "markdown",
   "metadata": {},
   "source": [
    "## BDD table creation"
   ]
  },
  {
   "cell_type": "code",
   "execution_count": 7,
   "metadata": {},
   "outputs": [],
   "source": [
    "#Create BDDs out of the ERROR truth table\n",
    "\n",
    "def generate_BDD(input_truthtable, input_width, filename, VERBOSE_output):\n",
    "    #create the inputs with their correct width\n",
    "    A_in = exprvars('A', input_width)\n",
    "    B_in = exprvars('B', input_width)\n",
    "\n",
    "    #join both inputs so we again have something like A+B=Y\n",
    "    X = A_in + B_in\n",
    "    EDA_truth_table = truthtable(X, input_truthtable)\n",
    "    EDA_expression = truthtable2expr(EDA_truth_table)\n",
    "    EDA_bdd = expr2bdd(EDA_expression)\n",
    "   \n",
    "    #convert the BDD to a dot-thingie and then hacksy-macksy create a png\n",
    "    EDA_error_bdd_dots = EDA_bdd.to_dot()\n",
    "    (graph, ) = pydot.graph_from_dot_data(EDA_error_bdd_dots)\n",
    "    graph.write_png(str(filename) + '.png')\n",
    "    \n",
    "        \n",
    "    #if(VERBOSE_output):\n",
    "    #    print(\"Binary Error BDD:\")\n",
    "    #    print(\"1==ERROR, 0==CORRECT\")\n",
    "    #    %dotobj EDA_bdd\n",
    "    \n",
    "    \n",
    "    return EDA_bdd\n",
    "    "
   ]
  },
  {
   "cell_type": "markdown",
   "metadata": {},
   "source": [
    "## Visualization"
   ]
  },
  {
   "cell_type": "code",
   "execution_count": 64,
   "metadata": {},
   "outputs": [],
   "source": [
    "def generate_image(abs_error_array, input_combinations, filename,  VERBOSE_output):\n",
    "    \n",
    "    #find maximum error:\n",
    "    max_error = 0\n",
    "    for f in range(input_combinations):\n",
    "        for g in range(input_combinations):\n",
    "            if(255-abs_error_array[f][g][2] > max_error):\n",
    "                max_error = 255-abs_error_array[f][g][2]\n",
    "                \n",
    "    print(\"max error: \"+ str(max_error))\n",
    "    #scale colors to max error\n",
    "    for f in range(input_combinations):\n",
    "        for g in range(input_combinations):\n",
    "            abs_error_array[f][g][1] = 255 - ((255-abs_error_array[f][g][1])/max_error) * 255 #scale green\n",
    "            abs_error_array[f][g][2] = 255 - ((255-abs_error_array[f][g][2])/max_error) * 255 #scale blue\n",
    "            \n",
    "    if(VERBOSE_output):\n",
    "        print(\"Error array scaled:\" + str(abs_error_array))\n",
    "        \n",
    "    row_im = Image.fromarray(abs_error_array)\n",
    "    row_im.save(str(filename) + \".png\")"
   ]
  },
  {
   "cell_type": "code",
   "execution_count": null,
   "metadata": {},
   "outputs": [],
   "source": []
  },
  {
   "cell_type": "code",
   "execution_count": 31,
   "metadata": {},
   "outputs": [
    {
     "data": {
      "text/plain": [
       "340282366920938463463374607431768211456"
      ]
     },
     "execution_count": 31,
     "metadata": {},
     "output_type": "execute_result"
    }
   ],
   "source": []
  },
  {
   "cell_type": "markdown",
   "metadata": {},
   "source": [
    "## RUN everything"
   ]
  },
  {
   "cell_type": "code",
   "execution_count": 66,
   "metadata": {},
   "outputs": [
    {
     "name": "stdout",
     "output_type": "stream",
     "text": [
      "max error: 254\n"
     ]
    }
   ],
   "source": [
    "#run all the functions after each other\n",
    "\n",
    "#define the inputs\n",
    "input_width = 8 #input width for the adders in bit\n",
    "input_combinations = 2**input_width\n",
    "VERBOSE_output = 0\n",
    "    \n",
    "\n",
    "#define some variables:\n",
    "\n",
    "#Initialize an array for each output truth table\n",
    "#each row is a complete truth table for a single output bit\n",
    "output_truth_table_approx = numpy.zeros(shape=(input_width+1, input_combinations**2), dtype=numpy.uint8)\n",
    "output_truth_table_exact = numpy.zeros(shape=(input_width+1, input_combinations**2), dtype=numpy.uint8)\n",
    "#example with 2 input bits to visualize:\n",
    "#[[0, 1, 1, 0, 1, 0, 0, 1, 1, 0, 0, 1, 0, 1, 1, 0,]\n",
    "#[1, 0, 0, 1, 0, 1, 1, 0, 0, 1, 1, 0, 1, 0, 0, 1,]\n",
    "#[0, 1, 0, 1, 1, 0, 1, 0, 0, 1, 0, 1, 1, 0, 1, 0,]]\n",
    "#2 input bits result in 3 output bits and 16 input combinations. from 00+00=000 to 11+11=110\n",
    "\n",
    "#run the adders with the defined bitwidth\n",
    "output_truth_table_approx, output_truth_table_exact, bin_error, abs_error_array =\\\n",
    "run_adders(input_width, input_combinations, VERBOSE_output)\n",
    "\n",
    "#create truth table string arrays\n",
    "output_truth_table_approx_str, output_truth_table_exact_str =\\\n",
    "generate_truth_table(output_truth_table_approx, output_truth_table_exact, bin_error, input_width, input_combinations, VERBOSE_output)\n",
    "\n",
    "#generate an error BDD and plot it\n",
    "EDA_error_bdd =\\\n",
    "generate_BDD(bin_error, input_width, \"images/error_bdd\" , VERBOSE_output)\n",
    "\n",
    "\n",
    "\n",
    "#generate approx output BDDs and plot them \n",
    "for h in range(input_width+1):\n",
    "    EDA_approx_bdd =\\\n",
    "    generate_BDD(output_truth_table_approx_str[h], input_width, \"images/BDD_approx_bit\"+str(h) , VERBOSE_output)\n",
    "#    %dotobj EDA_approx_bdd\n",
    "\n",
    "#generate exact output BDDs and plot them \n",
    "for z in range(input_width+1):\n",
    "    EDA_exact_bdd =\\\n",
    "    generate_BDD(output_truth_table_exact_str[z], input_width, \"images/BDD_exact_bit\"+str(z) , VERBOSE_output)\n",
    "#    %dotobj EDA_exact_bdd\n",
    "\n",
    "#generate an imgage with the absolute error \n",
    "#print(abs_error_array)\n",
    "generate_image(abs_error_array.astype(numpy.uint8), input_combinations, \"images/abs_error_visual\" , VERBOSE_output)\n",
    "\n"
   ]
  },
  {
   "cell_type": "code",
   "execution_count": 197,
   "metadata": {},
   "outputs": [],
   "source": []
  },
  {
   "cell_type": "code",
   "execution_count": 198,
   "metadata": {},
   "outputs": [],
   "source": []
  },
  {
   "cell_type": "markdown",
   "metadata": {},
   "source": [
    "## Stuff to look back at later"
   ]
  },
  {
   "cell_type": "code",
   "execution_count": null,
   "metadata": {},
   "outputs": [],
   "source": [
    "#Generate BDD variables with the rigth width\n",
    "input_A = bddvars('input_a', input_width)\n",
    "input_B = bddvars('input_b', input_width)\n",
    "carry_C = bddvars('carry_c', input_width)\n",
    "\n",
    "\n",
    "for i in range(input_width):\n",
    "    if i == 0: #catch the case for the \"zeroth\" bit\n",
    "        approx_add_func_S= (input_A[i] ^ input_B[i]) ^ False\n",
    "        approx_add_func_C = ~((input_A[i] ^ input_B[i]) ^ False)\n",
    "        exact_add_func_S = (input_A[i] ^ input_B[i]) ^ False\n",
    "        exact_add_func_C = (input_A[i] & input_B[i]) | (input_A[i] & False) | (False & input_B[i])\n",
    "        \n",
    "    else:\n",
    "        approx_add_func_S= (input_A[i] ^ input_B[i]) ^ carry_C[i]\n",
    "        approx_add_func_C = ~((input_A[i] ^ input_B[i]) ^ carry_C[i])\n",
    "        exact_add_func_S = (input_A[i] ^ input_B[i]) ^ carry_C[i]\n",
    "        exact_add_func_C = (input_A[i] & input_B[i]) | (input_A[i] & carry_C[i]) | (carry_C[i] & input_B[i])\n",
    "        \n",
    "\n",
    "approx_add_bdd_S = expr2bdd(approx_add_func_S)\n",
    "approx_add_bdd_C = expr2bdd(approx_add_func_C)\n",
    "%dotobj approx_add_bdd_S\n",
    "%dotobj approx_add_bdd_C\n"
   ]
  }
 ],
 "metadata": {
  "kernelspec": {
   "display_name": "Python 3",
   "language": "python",
   "name": "python3"
  },
  "language_info": {
   "codemirror_mode": {
    "name": "ipython",
    "version": 3
   },
   "file_extension": ".py",
   "mimetype": "text/x-python",
   "name": "python",
   "nbconvert_exporter": "python",
   "pygments_lexer": "ipython3",
   "version": "3.7.6"
  }
 },
 "nbformat": 4,
 "nbformat_minor": 4
}
